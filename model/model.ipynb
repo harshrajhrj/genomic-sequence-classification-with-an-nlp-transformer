{
 "cells": [
  {
   "cell_type": "markdown",
   "id": "f4081a8a",
   "metadata": {},
   "source": [
    "To build and train a Transformer-based model that classifies a given DNA sequence (e.g., \"GATTACA...\") as either a \"promoter\" (class 1) or a \"non-promoter\" (class 0). This is a binary classification task on biological sequence data using NLP architecture."
   ]
  },
  {
   "cell_type": "markdown",
   "id": "26919ecf",
   "metadata": {},
   "source": [
    "##### Import libraries"
   ]
  },
  {
   "cell_type": "code",
   "execution_count": 52,
   "id": "2d50cb41",
   "metadata": {
    "execution": {
     "iopub.execute_input": "2025-09-11T20:11:58.792341Z",
     "iopub.status.busy": "2025-09-11T20:11:58.791573Z",
     "iopub.status.idle": "2025-09-11T20:12:06.496394Z",
     "shell.execute_reply": "2025-09-11T20:12:06.495708Z",
     "shell.execute_reply.started": "2025-09-11T20:11:58.792316Z"
    },
    "trusted": true
   },
   "outputs": [
    {
     "name": "stdout",
     "output_type": "stream",
     "text": [
      "Libraries imported successfully.\n"
     ]
    }
   ],
   "source": [
    "import numpy as np\n",
    "import matplotlib.pyplot as plt\n",
    "import seaborn as sns\n",
    "import pandas as pd\n",
    "\n",
    "import torch\n",
    "import torch.nn as nn\n",
    "from torch.utils.data import DataLoader, Dataset, random_split\n",
    "import torch.optim as optim\n",
    "from torch.optim.lr_scheduler import StepLR\n",
    "from sklearn.model_selection import train_test_split\n",
    "from sklearn.preprocessing import LabelEncoder\n",
    "from sklearn.metrics import classification_report, confusion_matrix\n",
    "\n",
    "from tqdm.auto import tqdm\n",
    "\n",
    "print(\"Libraries imported successfully.\")"
   ]
  },
  {
   "cell_type": "markdown",
   "id": "157e3896",
   "metadata": {},
   "source": [
    "##### Load Dataset"
   ]
  },
  {
   "cell_type": "code",
   "execution_count": 53,
   "id": "ad6ef93b",
   "metadata": {
    "execution": {
     "iopub.execute_input": "2025-09-11T20:12:13.865995Z",
     "iopub.status.busy": "2025-09-11T20:12:13.865375Z",
     "iopub.status.idle": "2025-09-11T20:12:14.123460Z",
     "shell.execute_reply": "2025-09-11T20:12:14.122606Z",
     "shell.execute_reply.started": "2025-09-11T20:12:13.865971Z"
    },
    "trusted": true
   },
   "outputs": [
    {
     "name": "stdout",
     "output_type": "stream",
     "text": [
      "Dataset Shape: (22600, 3)\n",
      "\n",
      "First 5 rows:\n",
      "  Gene_Name         Label                                           Sequence\n",
      "0     Clp_1  Non-Promoter  GCAATTCAAGTGTTGCTCTTGTGTAAGTGAAATTTTTGAAACTGGC...\n",
      "1    Vsx2_1  Non-Promoter  CGGCTAGCGTGCGACAGAGACCGCCCCTGAATATTTACCGTTGCCG...\n",
      "2     wgn_1  Non-Promoter  TCGATTGAGTTAGACCAACTAAAAACATTGGTCAACAAAAAACGCG...\n",
      "3    Dlic_1  Non-Promoter  GCGATCAAAGTTCACAATGAGATTAAAGCGACATCTATGAGCAGCG...\n",
      "4     CAP_2  Non-Promoter  TTGCCCATTTCTTAAGATTTATTTAAAGGAAAGACAGTACAGAAAT...\n",
      "\n",
      "Class Distribution:\n",
      "Label\n",
      "Non-Promoter    11300\n",
      "Promoter        11300\n",
      "Name: count, dtype: int64\n"
     ]
    }
   ],
   "source": [
    "# Load the dataset\n",
    "df = pd.read_csv('../dataset/dataset.csv')\n",
    "\n",
    "# Let's take a quick look at the data\n",
    "print(\"Dataset Shape:\", df.shape)\n",
    "print(\"\\nFirst 5 rows:\")\n",
    "print(df.head())\n",
    "\n",
    "# Rename columns for easier access\n",
    "# df = df.rename(columns={'Promoter/Non-Promoter': 'label', 'Sequence': 'sequence'})\n",
    "\n",
    "print(\"\\nClass Distribution:\")\n",
    "print(df['Label'].value_counts())"
   ]
  },
  {
   "cell_type": "markdown",
   "id": "0d6f7396",
   "metadata": {},
   "source": [
    "##### K-merization"
   ]
  },
  {
   "cell_type": "code",
   "execution_count": 54,
   "id": "df60ad83",
   "metadata": {
    "execution": {
     "iopub.execute_input": "2025-09-11T20:12:20.325003Z",
     "iopub.status.busy": "2025-09-11T20:12:20.324700Z",
     "iopub.status.idle": "2025-09-11T20:12:21.119388Z",
     "shell.execute_reply": "2025-09-11T20:12:21.118486Z",
     "shell.execute_reply.started": "2025-09-11T20:12:20.324983Z"
    },
    "trusted": true
   },
   "outputs": [
    {
     "name": "stdout",
     "output_type": "stream",
     "text": [
      "\n",
      "Example after K-merization:\n",
      "                                            Sequence  \\\n",
      "0  GCAATTCAAGTGTTGCTCTTGTGTAAGTGAAATTTTTGAAACTGGC...   \n",
      "1  CGGCTAGCGTGCGACAGAGACCGCCCCTGAATATTTACCGTTGCCG...   \n",
      "2  TCGATTGAGTTAGACCAACTAAAAACATTGGTCAACAAAAAACGCG...   \n",
      "3  GCGATCAAAGTTCACAATGAGATTAAAGCGACATCTATGAGCAGCG...   \n",
      "4  TTGCCCATTTCTTAAGATTTATTTAAAGGAAAGACAGTACAGAAAT...   \n",
      "\n",
      "                                               kmers  \n",
      "0  GCAATT CAATTC AATTCA ATTCAA TTCAAG TCAAGT CAAG...  \n",
      "1  CGGCTA GGCTAG GCTAGC CTAGCG TAGCGT AGCGTG GCGT...  \n",
      "2  TCGATT CGATTG GATTGA ATTGAG TTGAGT TGAGTT GAGT...  \n",
      "3  GCGATC CGATCA GATCAA ATCAAA TCAAAG CAAAGT AAAG...  \n",
      "4  TTGCCC TGCCCA GCCCAT CCCATT CCATTT CATTTC ATTT...  \n"
     ]
    }
   ],
   "source": [
    "def generate_kmers(sequence, k):\n",
    "    \"\"\"Generates a list of k-mers from a DNA sequence.\"\"\"\n",
    "    kmers = []\n",
    "    num_kmers = len(sequence) - k + 1\n",
    "    for i in range(num_kmers):\n",
    "        kmer = sequence[i:i + k]\n",
    "        kmers.append(kmer)\n",
    "    return kmers\n",
    "\n",
    "# Define the k-mer size\n",
    "K_VALUE = 6\n",
    "\n",
    "# Apply the function to our sequence column\n",
    "# We'll join the k-mers into a single string separated by spaces, like a sentence.\n",
    "df['kmers'] = df['Sequence'].apply(lambda seq: \" \".join(generate_kmers(seq, K_VALUE)))\n",
    "\n",
    "print(\"\\nExample after K-merization:\")\n",
    "print(df[['Sequence', 'kmers']].head())"
   ]
  },
  {
   "cell_type": "markdown",
   "id": "d50c5321",
   "metadata": {},
   "source": [
    "##### Label Encoding and Data Splitting"
   ]
  },
  {
   "cell_type": "code",
   "execution_count": 55,
   "id": "2e9623e7",
   "metadata": {
    "execution": {
     "iopub.execute_input": "2025-09-11T20:12:26.140827Z",
     "iopub.status.busy": "2025-09-11T20:12:26.140262Z",
     "iopub.status.idle": "2025-09-11T20:12:26.175168Z",
     "shell.execute_reply": "2025-09-11T20:12:26.174326Z",
     "shell.execute_reply.started": "2025-09-11T20:12:26.140783Z"
    },
    "trusted": true
   },
   "outputs": [
    {
     "name": "stdout",
     "output_type": "stream",
     "text": [
      "\n",
      "Labels and their encoded values:\n",
      "Label         label_encoded\n",
      "Non-Promoter  0                11300\n",
      "Promoter      1                11300\n",
      "Name: count, dtype: int64\n",
      "\n",
      "Training set size: 15820\n",
      "Validation set size: 3390\n",
      "Test set size: 3390\n"
     ]
    }
   ],
   "source": [
    "# Initialize the Label Encoder\n",
    "label_encoder = LabelEncoder()\n",
    "\n",
    "# Fit and transform the labels\n",
    "df['label_encoded'] = label_encoder.fit_transform(df['Label'])\n",
    "\n",
    "print(\"\\nLabels and their encoded values:\")\n",
    "print(df[['Label', 'label_encoded']].value_counts())\n",
    "\n",
    "\n",
    "# Split the data into training and validation sets (80% train, 20% validation)\n",
    "train_df, temp_df = train_test_split(\n",
    "    df,\n",
    "    test_size=0.3,  # 30% for temp (will be split into val and test)\n",
    "    random_state=42,\n",
    "    stratify=df['label_encoded']\n",
    ")\n",
    "\n",
    "val_df, test_df = train_test_split(\n",
    "    temp_df,\n",
    "    test_size=0.5,  # Split the 30% into 15% val and 15% test\n",
    "    random_state=42,\n",
    "    stratify=temp_df['label_encoded']\n",
    ")\n",
    "\n",
    "print(f\"\\nTraining set size: {len(train_df)}\")\n",
    "print(f\"Validation set size: {len(val_df)}\")\n",
    "print(f\"Test set size: {len(test_df)}\")"
   ]
  },
  {
   "cell_type": "markdown",
   "id": "54adff68",
   "metadata": {},
   "source": [
    "##### Building the K-mer Vocabulary"
   ]
  },
  {
   "cell_type": "code",
   "execution_count": 56,
   "id": "342ab0d5",
   "metadata": {
    "execution": {
     "iopub.execute_input": "2025-09-11T20:12:26.829418Z",
     "iopub.status.busy": "2025-09-11T20:12:26.829130Z",
     "iopub.status.idle": "2025-09-11T20:12:27.573005Z",
     "shell.execute_reply": "2025-09-11T20:12:27.572189Z",
     "shell.execute_reply.started": "2025-09-11T20:12:26.829397Z"
    },
    "trusted": true
   },
   "outputs": [
    {
     "name": "stdout",
     "output_type": "stream",
     "text": [
      "Vocabulary Size: 4106\n"
     ]
    }
   ],
   "source": [
    "# Create a set of all unique k-mers from the training data\n",
    "all_kmers = set()\n",
    "for text in train_df['kmers']:\n",
    "    for kmer in text.split():\n",
    "        all_kmers.add(kmer)\n",
    "\n",
    "# Build the vocabulary mapping\n",
    "# Reserve IDs for special tokens\n",
    "kmer_to_id = {kmer: i+4 for i, kmer in enumerate(sorted(list(all_kmers)))}\n",
    "kmer_to_id['[PAD]'] = 0  # Padding token\n",
    "kmer_to_id['[UNK]'] = 1  # Unknown token\n",
    "kmer_to_id['[CLS]'] = 2  # Classification token (start of sequence)\n",
    "kmer_to_id['[SEP]'] = 3  # Separator token (end of sequence)\n",
    "\n",
    "# Create the reverse mapping\n",
    "id_to_kmer = {id: kmer for kmer, id in kmer_to_id.items()}\n",
    "\n",
    "VOCAB_SIZE = len(kmer_to_id)\n",
    "print(f\"Vocabulary Size: {VOCAB_SIZE}\")"
   ]
  },
  {
   "cell_type": "markdown",
   "id": "20bc2c50",
   "metadata": {},
   "source": [
    "##### Creating a custom PyTorch dataset"
   ]
  },
  {
   "cell_type": "code",
   "execution_count": 57,
   "id": "bffe2af8",
   "metadata": {
    "execution": {
     "iopub.execute_input": "2025-09-11T20:12:31.482166Z",
     "iopub.status.busy": "2025-09-11T20:12:31.481414Z",
     "iopub.status.idle": "2025-09-11T20:12:31.494673Z",
     "shell.execute_reply": "2025-09-11T20:12:31.493844Z",
     "shell.execute_reply.started": "2025-09-11T20:12:31.482127Z"
    },
    "trusted": true
   },
   "outputs": [],
   "source": [
    "class PromoterDataset(Dataset):\n",
    "    def __init__(self, texts, labels, kmer_to_id, max_length):\n",
    "        self.texts = texts\n",
    "        self.labels = labels\n",
    "        self.kmer_to_id = kmer_to_id\n",
    "        self.max_length = max_length\n",
    "\n",
    "    def __len__(self):\n",
    "        return len(self.texts)\n",
    "\n",
    "    def __getitem__(self, idx):\n",
    "        text = self.texts[idx]\n",
    "        label = self.labels[idx]\n",
    "\n",
    "        # 1. Tokenize: Convert k-mers to integer IDs\n",
    "        # Split sentence into k-mers and add CLS/SEP tokens\n",
    "        kmer_list = text.split()\n",
    "        token_ids = [self.kmer_to_id.get('[CLS]')]\n",
    "        token_ids.extend([self.kmer_to_id.get(k, self.kmer_to_id['[UNK]']) for k in kmer_list])\n",
    "        token_ids.append(self.kmer_to_id.get('[SEP]'))\n",
    "\n",
    "        # 2. Pad or truncate the sequence\n",
    "        if len(token_ids) < self.max_length:\n",
    "            padding_len = self.max_length - len(token_ids)\n",
    "            token_ids.extend([self.kmer_to_id['[PAD]']] * padding_len)\n",
    "        else:\n",
    "            token_ids = token_ids[:self.max_length-1] + [self.kmer_to_id.get('[SEP]')]\n",
    "\n",
    "        # 3. Create attention mask\n",
    "        attention_mask = [1 if id != self.kmer_to_id['[PAD]'] else 0 for id in token_ids]\n",
    "\n",
    "        # 4. Convert to PyTorch tensors\n",
    "        return {\n",
    "            'input_ids': torch.tensor(token_ids, dtype=torch.long),\n",
    "            'attention_mask': torch.tensor(attention_mask, dtype=torch.long),\n",
    "            'labels': torch.tensor(label, dtype=torch.long)\n",
    "        }"
   ]
  },
  {
   "cell_type": "markdown",
   "id": "02875eca",
   "metadata": {},
   "source": [
    "##### Instantiate Datasets and DataLoaders"
   ]
  },
  {
   "cell_type": "code",
   "execution_count": 58,
   "id": "ec6b93fc",
   "metadata": {
    "execution": {
     "iopub.execute_input": "2025-09-11T20:12:34.199678Z",
     "iopub.status.busy": "2025-09-11T20:12:34.199108Z",
     "iopub.status.idle": "2025-09-11T20:12:34.309684Z",
     "shell.execute_reply": "2025-09-11T20:12:34.308995Z",
     "shell.execute_reply.started": "2025-09-11T20:12:34.199657Z"
    },
    "trusted": true
   },
   "outputs": [
    {
     "name": "stdout",
     "output_type": "stream",
     "text": [
      "\n",
      "DataLoaders created successfully.\n",
      "Batch shapes: {'input_ids': torch.Size([32, 64]), 'attention_mask': torch.Size([32, 64]), 'labels': torch.Size([32])}\n"
     ]
    }
   ],
   "source": [
    "# Set hyperparameters\n",
    "MAX_LENGTH = 64  # Max k-mers per sequence (DNA length is 57, so ~52 kmers + special tokens)\n",
    "BATCH_SIZE = 32\n",
    "\n",
    "# Create Dataset instances\n",
    "train_dataset = PromoterDataset(\n",
    "    texts=train_df['kmers'].tolist(),\n",
    "    labels=train_df['label_encoded'].tolist(),\n",
    "    kmer_to_id=kmer_to_id,\n",
    "    max_length=MAX_LENGTH\n",
    ")\n",
    "\n",
    "val_dataset = PromoterDataset(\n",
    "    texts=val_df['kmers'].tolist(),\n",
    "    labels=val_df['label_encoded'].tolist(),\n",
    "    kmer_to_id=kmer_to_id,\n",
    "    max_length=MAX_LENGTH\n",
    ")\n",
    "\n",
    "test_dataset = PromoterDataset(\n",
    "    texts=test_df['kmers'].tolist(),\n",
    "    labels=test_df['label_encoded'].tolist(),\n",
    "    kmer_to_id=kmer_to_id,\n",
    "    max_length=MAX_LENGTH\n",
    ")\n",
    "\n",
    "# Create DataLoader instances\n",
    "train_loader = DataLoader(train_dataset, batch_size=BATCH_SIZE, shuffle=True)\n",
    "val_loader = DataLoader(val_dataset, batch_size=BATCH_SIZE, shuffle=False)\n",
    "test_loader = DataLoader(test_dataset, batch_size=BATCH_SIZE, shuffle=False)\n",
    "\n",
    "print(\"\\nDataLoaders created successfully.\")\n",
    "# Let's check one batch to see the output shape\n",
    "data_batch = next(iter(train_loader))\n",
    "print(\"Batch shapes:\", {k: v.shape for k, v in data_batch.items()})"
   ]
  },
  {
   "cell_type": "markdown",
   "id": "71ef884c",
   "metadata": {},
   "source": [
    "##### Configure and Instantiate the Model"
   ]
  },
  {
   "cell_type": "code",
   "execution_count": 59,
   "id": "5f8511d0",
   "metadata": {
    "execution": {
     "iopub.execute_input": "2025-09-11T20:12:37.154266Z",
     "iopub.status.busy": "2025-09-11T20:12:37.153665Z",
     "iopub.status.idle": "2025-09-11T20:13:05.633647Z",
     "shell.execute_reply": "2025-09-11T20:13:05.632835Z",
     "shell.execute_reply.started": "2025-09-11T20:12:37.154239Z"
    },
    "trusted": true
   },
   "outputs": [
    {
     "name": "stdout",
     "output_type": "stream",
     "text": [
      "\n",
      "Model instantiated with 4,293,890 trainable parameters (BERT-base).\n",
      "Model moved to device: cuda\n"
     ]
    }
   ],
   "source": [
    "from transformers import BertConfig, BertForSequenceClassification\n",
    "\n",
    "# Define model configuration\n",
    "config = BertConfig(\n",
    "    vocab_size=VOCAB_SIZE,\n",
    "    hidden_size=256,                    # Dimension of the encoder layers\n",
    "    num_hidden_layers=4,                # Number of hidden layers\n",
    "    num_attention_heads=4,              # Number of attention heads\n",
    "    intermediate_size=1024,             # Dimension of the \"feed-forward\" layer\n",
    "    max_position_embeddings=MAX_LENGTH,\n",
    "    num_labels=2,                       # Binary classification (Promoter/Non-Promoter)\n",
    "    hidden_dropout_prob=0.3,            # Default is 0.1\n",
    "    attention_probs_dropout_prob=0.3    # Default is 0.1\n",
    ")\n",
    "\n",
    "# Instantiate the model with the new configuration\n",
    "model = BertForSequenceClassification(config)\n",
    "\n",
    "# Check the number of parameters\n",
    "num_params = sum(p.numel() for p in model.parameters() if p.requires_grad)\n",
    "print(f\"\\nModel instantiated with {num_params:,} trainable parameters (BERT-base).\")\n",
    "\n",
    "# Set device (use GPU if available)\n",
    "device = torch.device(\"cuda\" if torch.cuda.is_available() else \"cpu\")\n",
    "model.to(device)\n",
    "print(f\"Model moved to device: {device}\")"
   ]
  },
  {
   "cell_type": "markdown",
   "id": "475c80ac",
   "metadata": {},
   "source": [
    "##### Setup Optimizer and Scheduler"
   ]
  },
  {
   "cell_type": "code",
   "execution_count": 60,
   "id": "e20d356b",
   "metadata": {
    "execution": {
     "iopub.execute_input": "2025-09-11T20:13:05.635758Z",
     "iopub.status.busy": "2025-09-11T20:13:05.635131Z",
     "iopub.status.idle": "2025-09-11T20:13:05.679587Z",
     "shell.execute_reply": "2025-09-11T20:13:05.678751Z",
     "shell.execute_reply.started": "2025-09-11T20:13:05.635730Z"
    },
    "trusted": true
   },
   "outputs": [],
   "source": [
    "from transformers import get_linear_schedule_with_warmup\n",
    "from torch.optim import AdamW\n",
    "\n",
    "# Set hyperparameters\n",
    "EPOCHS = 10\n",
    "LEARNING_RATE = 2e-5 # A common starting point for fine-tuning BERT-like models\n",
    "\n",
    "# Initialize the optimizer\n",
    "optimizer = AdamW(model.parameters(), lr=LEARNING_RATE, weight_decay=0.01)\n",
    "\n",
    "# Calculate total training steps for the scheduler\n",
    "total_steps = len(train_loader) * EPOCHS\n",
    "\n",
    "# Use 5-10% of total steps for warmup\n",
    "# warmup_steps = int(total_steps * 0.05)\n",
    "\n",
    "# Initialize the learning rate scheduler\n",
    "scheduler = get_linear_schedule_with_warmup(\n",
    "    optimizer,\n",
    "    num_warmup_steps=0, # Optional: Number of steps for a low learning rate warmup\n",
    "    num_training_steps=total_steps\n",
    ")"
   ]
  },
  {
   "cell_type": "markdown",
   "id": "e6800a10",
   "metadata": {},
   "source": [
    "##### Training Function"
   ]
  },
  {
   "cell_type": "code",
   "execution_count": 61,
   "id": "64617762",
   "metadata": {
    "execution": {
     "iopub.execute_input": "2025-09-11T20:13:05.681351Z",
     "iopub.status.busy": "2025-09-11T20:13:05.680507Z",
     "iopub.status.idle": "2025-09-11T20:13:05.694284Z",
     "shell.execute_reply": "2025-09-11T20:13:05.693654Z",
     "shell.execute_reply.started": "2025-09-11T20:13:05.681319Z"
    },
    "trusted": true
   },
   "outputs": [],
   "source": [
    "def train_epoch(model, data_loader, optimizer, device, scheduler):\n",
    "    model = model.train() # Set the model to training mode\n",
    "    total_loss = 0\n",
    "    correct_predictions = 0\n",
    "    total_samples = 0\n",
    "\n",
    "    for batch in tqdm(data_loader, desc=\"Training\"):\n",
    "        # Move batch to the correct device\n",
    "        input_ids = batch['input_ids'].to(device)\n",
    "        attention_mask = batch['attention_mask'].to(device)\n",
    "        labels = batch['labels'].to(device)\n",
    "\n",
    "        # Clear previously calculated gradients\n",
    "        optimizer.zero_grad()\n",
    "\n",
    "        # Forward pass\n",
    "        outputs = model(\n",
    "            input_ids=input_ids,\n",
    "            attention_mask=attention_mask,\n",
    "            labels=labels\n",
    "        )\n",
    "\n",
    "        loss = outputs.loss\n",
    "        logits = outputs.logits\n",
    "\n",
    "        # Calculate accuracy\n",
    "        _, preds = torch.max(logits, dim=1)\n",
    "        correct_predictions += torch.sum(preds == labels)\n",
    "        total_samples += labels.size(0)\n",
    "\n",
    "        # Backward pass\n",
    "        loss.backward()\n",
    "\n",
    "        # Update weights\n",
    "        optimizer.step()\n",
    "        scheduler.step()\n",
    "\n",
    "        total_loss += loss.item()\n",
    "\n",
    "    avg_loss = total_loss / len(data_loader)\n",
    "    accuracy = correct_predictions.double() / total_samples\n",
    "    return avg_loss, accuracy"
   ]
  },
  {
   "cell_type": "markdown",
   "id": "14d32ef3",
   "metadata": {},
   "source": [
    "##### Evaluation Function"
   ]
  },
  {
   "cell_type": "code",
   "execution_count": 62,
   "id": "d80c0cef",
   "metadata": {
    "execution": {
     "iopub.execute_input": "2025-09-11T20:13:05.696213Z",
     "iopub.status.busy": "2025-09-11T20:13:05.695946Z",
     "iopub.status.idle": "2025-09-11T20:13:05.712929Z",
     "shell.execute_reply": "2025-09-11T20:13:05.712300Z",
     "shell.execute_reply.started": "2025-09-11T20:13:05.696189Z"
    },
    "trusted": true
   },
   "outputs": [],
   "source": [
    "def eval_model(model, data_loader, device):\n",
    "    model = model.eval() # Set the model to evaluation mode\n",
    "    total_loss = 0\n",
    "    correct_predictions = 0\n",
    "    total_samples = 0\n",
    "\n",
    "    with torch.no_grad(): # Disable gradient calculations\n",
    "        for batch in tqdm(data_loader, desc=\"Evaluating\"):\n",
    "            input_ids = batch['input_ids'].to(device)\n",
    "            attention_mask = batch['attention_mask'].to(device)\n",
    "            labels = batch['labels'].to(device)\n",
    "\n",
    "            outputs = model(\n",
    "                input_ids=input_ids,\n",
    "                attention_mask=attention_mask,\n",
    "                labels=labels\n",
    "            )\n",
    "\n",
    "            loss = outputs.loss\n",
    "            logits = outputs.logits\n",
    "\n",
    "            _, preds = torch.max(logits, dim=1)\n",
    "            correct_predictions += torch.sum(preds == labels)\n",
    "            total_samples += labels.size(0)\n",
    "            total_loss += loss.item()\n",
    "\n",
    "    avg_loss = total_loss / len(data_loader)\n",
    "    accuracy = correct_predictions.double() / total_samples\n",
    "    return avg_loss, accuracy"
   ]
  },
  {
   "cell_type": "markdown",
   "id": "a975a843",
   "metadata": {},
   "source": [
    "##### Training Phase"
   ]
  },
  {
   "cell_type": "code",
   "execution_count": 63,
   "id": "36506de8",
   "metadata": {
    "execution": {
     "iopub.execute_input": "2025-09-11T20:13:05.714281Z",
     "iopub.status.busy": "2025-09-11T20:13:05.713678Z",
     "iopub.status.idle": "2025-09-11T20:15:12.176240Z",
     "shell.execute_reply": "2025-09-11T20:15:12.175501Z",
     "shell.execute_reply.started": "2025-09-11T20:13:05.714254Z"
    },
    "trusted": true
   },
   "outputs": [
    {
     "name": "stdout",
     "output_type": "stream",
     "text": [
      "Epoch 1/10\n",
      "--------------------\n"
     ]
    },
    {
     "name": "stderr",
     "output_type": "stream",
     "text": [
      "Training: 100%|██████████| 495/495 [00:13<00:00, 36.03it/s]\n"
     ]
    },
    {
     "name": "stdout",
     "output_type": "stream",
     "text": [
      "Train loss: 0.6945, Train accuracy: 0.5045\n"
     ]
    },
    {
     "name": "stderr",
     "output_type": "stream",
     "text": [
      "Evaluating: 100%|██████████| 106/106 [00:01<00:00, 82.63it/s]\n"
     ]
    },
    {
     "name": "stdout",
     "output_type": "stream",
     "text": [
      "Validation loss: 0.6926, Validation accuracy: 0.5000\n",
      "\n",
      "Epoch 2/10\n",
      "--------------------\n"
     ]
    },
    {
     "name": "stderr",
     "output_type": "stream",
     "text": [
      "Training: 100%|██████████| 495/495 [00:13<00:00, 35.95it/s]\n"
     ]
    },
    {
     "name": "stdout",
     "output_type": "stream",
     "text": [
      "Train loss: 0.6930, Train accuracy: 0.5161\n"
     ]
    },
    {
     "name": "stderr",
     "output_type": "stream",
     "text": [
      "Evaluating: 100%|██████████| 106/106 [00:01<00:00, 93.19it/s]\n"
     ]
    },
    {
     "name": "stdout",
     "output_type": "stream",
     "text": [
      "Validation loss: 0.6890, Validation accuracy: 0.6024\n",
      "\n",
      "Epoch 3/10\n",
      "--------------------\n"
     ]
    },
    {
     "name": "stderr",
     "output_type": "stream",
     "text": [
      "Training: 100%|██████████| 495/495 [00:14<00:00, 35.17it/s]\n"
     ]
    },
    {
     "name": "stdout",
     "output_type": "stream",
     "text": [
      "Train loss: 0.6647, Train accuracy: 0.5946\n"
     ]
    },
    {
     "name": "stderr",
     "output_type": "stream",
     "text": [
      "Evaluating: 100%|██████████| 106/106 [00:01<00:00, 103.48it/s]\n"
     ]
    },
    {
     "name": "stdout",
     "output_type": "stream",
     "text": [
      "Validation loss: 0.6011, Validation accuracy: 0.6740\n",
      "\n",
      "Epoch 4/10\n",
      "--------------------\n"
     ]
    },
    {
     "name": "stderr",
     "output_type": "stream",
     "text": [
      "Training: 100%|██████████| 495/495 [00:13<00:00, 37.06it/s]\n"
     ]
    },
    {
     "name": "stdout",
     "output_type": "stream",
     "text": [
      "Train loss: 0.5955, Train accuracy: 0.6816\n"
     ]
    },
    {
     "name": "stderr",
     "output_type": "stream",
     "text": [
      "Evaluating: 100%|██████████| 106/106 [00:01<00:00, 84.08it/s]\n"
     ]
    },
    {
     "name": "stdout",
     "output_type": "stream",
     "text": [
      "Validation loss: 0.6074, Validation accuracy: 0.6720\n",
      "\n",
      "Epoch 5/10\n",
      "--------------------\n"
     ]
    },
    {
     "name": "stderr",
     "output_type": "stream",
     "text": [
      "Training: 100%|██████████| 495/495 [00:14<00:00, 34.10it/s]\n"
     ]
    },
    {
     "name": "stdout",
     "output_type": "stream",
     "text": [
      "Train loss: 0.5729, Train accuracy: 0.7047\n"
     ]
    },
    {
     "name": "stderr",
     "output_type": "stream",
     "text": [
      "Evaluating: 100%|██████████| 106/106 [00:01<00:00, 81.92it/s]\n"
     ]
    },
    {
     "name": "stdout",
     "output_type": "stream",
     "text": [
      "Validation loss: 0.6143, Validation accuracy: 0.6720\n",
      "\n",
      "Epoch 6/10\n",
      "--------------------\n"
     ]
    },
    {
     "name": "stderr",
     "output_type": "stream",
     "text": [
      "Training: 100%|██████████| 495/495 [00:13<00:00, 36.39it/s]\n"
     ]
    },
    {
     "name": "stdout",
     "output_type": "stream",
     "text": [
      "Train loss: 0.5596, Train accuracy: 0.7160\n"
     ]
    },
    {
     "name": "stderr",
     "output_type": "stream",
     "text": [
      "Evaluating: 100%|██████████| 106/106 [00:01<00:00, 99.97it/s]\n"
     ]
    },
    {
     "name": "stdout",
     "output_type": "stream",
     "text": [
      "Validation loss: 0.6015, Validation accuracy: 0.6791\n",
      "\n",
      "Epoch 7/10\n",
      "--------------------\n"
     ]
    },
    {
     "name": "stderr",
     "output_type": "stream",
     "text": [
      "Training: 100%|██████████| 495/495 [00:13<00:00, 36.63it/s]\n"
     ]
    },
    {
     "name": "stdout",
     "output_type": "stream",
     "text": [
      "Train loss: 0.5550, Train accuracy: 0.7209\n"
     ]
    },
    {
     "name": "stderr",
     "output_type": "stream",
     "text": [
      "Evaluating: 100%|██████████| 106/106 [00:01<00:00, 89.50it/s]\n"
     ]
    },
    {
     "name": "stdout",
     "output_type": "stream",
     "text": [
      "Validation loss: 0.6006, Validation accuracy: 0.6808\n",
      "\n",
      "Epoch 8/10\n",
      "--------------------\n"
     ]
    },
    {
     "name": "stderr",
     "output_type": "stream",
     "text": [
      "Training: 100%|██████████| 495/495 [00:14<00:00, 34.86it/s]\n"
     ]
    },
    {
     "name": "stdout",
     "output_type": "stream",
     "text": [
      "Train loss: 0.5470, Train accuracy: 0.7295\n"
     ]
    },
    {
     "name": "stderr",
     "output_type": "stream",
     "text": [
      "Evaluating: 100%|██████████| 106/106 [00:01<00:00, 105.71it/s]\n"
     ]
    },
    {
     "name": "stdout",
     "output_type": "stream",
     "text": [
      "Validation loss: 0.6058, Validation accuracy: 0.6805\n",
      "\n",
      "Epoch 9/10\n",
      "--------------------\n"
     ]
    },
    {
     "name": "stderr",
     "output_type": "stream",
     "text": [
      "Training: 100%|██████████| 495/495 [00:13<00:00, 36.48it/s]\n"
     ]
    },
    {
     "name": "stdout",
     "output_type": "stream",
     "text": [
      "Train loss: 0.5419, Train accuracy: 0.7326\n"
     ]
    },
    {
     "name": "stderr",
     "output_type": "stream",
     "text": [
      "Evaluating: 100%|██████████| 106/106 [00:01<00:00, 94.91it/s]\n"
     ]
    },
    {
     "name": "stdout",
     "output_type": "stream",
     "text": [
      "Validation loss: 0.6134, Validation accuracy: 0.6826\n",
      "\n",
      "Epoch 10/10\n",
      "--------------------\n"
     ]
    },
    {
     "name": "stderr",
     "output_type": "stream",
     "text": [
      "Training: 100%|██████████| 495/495 [00:13<00:00, 36.50it/s]\n"
     ]
    },
    {
     "name": "stdout",
     "output_type": "stream",
     "text": [
      "Train loss: 0.5390, Train accuracy: 0.7344\n"
     ]
    },
    {
     "name": "stderr",
     "output_type": "stream",
     "text": [
      "Evaluating: 100%|██████████| 106/106 [00:01<00:00, 76.23it/s]"
     ]
    },
    {
     "name": "stdout",
     "output_type": "stream",
     "text": [
      "Validation loss: 0.6111, Validation accuracy: 0.6817\n",
      "\n",
      "Training complete!\n",
      "Best validation accuracy: 0.6826\n"
     ]
    },
    {
     "name": "stderr",
     "output_type": "stream",
     "text": [
      "\n"
     ]
    }
   ],
   "source": [
    "best_accuracy = 0\n",
    "\n",
    "for epoch in range(EPOCHS):\n",
    "    print(f'Epoch {epoch + 1}/{EPOCHS}')\n",
    "    print('-' * 20)\n",
    "\n",
    "    train_loss, train_acc = train_epoch(\n",
    "        model,\n",
    "        train_loader,\n",
    "        optimizer,\n",
    "        device,\n",
    "        scheduler\n",
    "    )\n",
    "    print(f'Train loss: {train_loss:.4f}, Train accuracy: {train_acc:.4f}')\n",
    "\n",
    "    val_loss, val_acc = eval_model(\n",
    "        model,\n",
    "        val_loader,\n",
    "        device\n",
    "    )\n",
    "    print(f'Validation loss: {val_loss:.4f}, Validation accuracy: {val_acc:.4f}')\n",
    "    print()\n",
    "\n",
    "    # Save the model if it has the best validation accuracy so far\n",
    "    if val_acc > best_accuracy:\n",
    "        torch.save(model.state_dict(), 'best_model_state.bin')\n",
    "        best_accuracy = val_acc\n",
    "\n",
    "print(\"Training complete!\")\n",
    "print(f\"Best validation accuracy: {best_accuracy:.4f}\")"
   ]
  },
  {
   "cell_type": "markdown",
   "id": "c08467b3-eb86-47bb-b9e7-8b5740125704",
   "metadata": {},
   "source": [
    "##### Inference on a single sequence"
   ]
  },
  {
   "cell_type": "code",
   "execution_count": 64,
   "id": "6f0c9e4f-c06b-4ed8-941d-1200885b9e21",
   "metadata": {
    "execution": {
     "iopub.execute_input": "2025-09-11T20:20:53.655371Z",
     "iopub.status.busy": "2025-09-11T20:20:53.654576Z",
     "iopub.status.idle": "2025-09-11T20:20:53.778075Z",
     "shell.execute_reply": "2025-09-11T20:20:53.777317Z",
     "shell.execute_reply.started": "2025-09-11T20:20:53.655340Z"
    },
    "trusted": true
   },
   "outputs": [
    {
     "name": "stdout",
     "output_type": "stream",
     "text": [
      "Model loaded successfully and set to evaluation mode.\n"
     ]
    }
   ],
   "source": [
    "# Loading the best model\n",
    "# Make sure you have the model architecture defined as before\n",
    "config = BertConfig(\n",
    "    vocab_size=VOCAB_SIZE,\n",
    "    hidden_size=256,                        # Dimension of the encoder layers\n",
    "    num_hidden_layers=4,                    # Number of hidden layers\n",
    "    num_attention_heads=4,                  # Number of attention heads\n",
    "    intermediate_size=1024,                 # Dimension of the \"feed-forward\" layer\n",
    "    max_position_embeddings=MAX_LENGTH,\n",
    "    num_labels=2,                           # Binary classification (Promoter/Non-Promoter)\n",
    "    hidden_dropout_prob=0.3,\n",
    "    attention_probs_dropout_prob=0.3\n",
    ")\n",
    "model = BertForSequenceClassification(config)\n",
    "\n",
    "# Load the saved weights\n",
    "model.load_state_dict(torch.load('best_model_state.bin'))\n",
    "\n",
    "# Move model to the correct device and set to evaluation mode\n",
    "device = torch.device(\"cuda\" if torch.cuda.is_available() else \"cpu\")\n",
    "model.to(device)\n",
    "model.eval()\n",
    "\n",
    "print(\"Model loaded successfully and set to evaluation mode.\")"
   ]
  },
  {
   "cell_type": "markdown",
   "id": "3b7de61c-0ec2-4e9d-bbf2-4ed55f9da0c5",
   "metadata": {},
   "source": [
    "##### Prediction"
   ]
  },
  {
   "cell_type": "code",
   "execution_count": 65,
   "id": "534210c4-a6f2-4676-a7df-8dd10580833f",
   "metadata": {
    "execution": {
     "iopub.execute_input": "2025-09-11T20:21:01.675244Z",
     "iopub.status.busy": "2025-09-11T20:21:01.674675Z",
     "iopub.status.idle": "2025-09-11T20:21:01.681777Z",
     "shell.execute_reply": "2025-09-11T20:21:01.681224Z",
     "shell.execute_reply.started": "2025-09-11T20:21:01.675219Z"
    },
    "trusted": true
   },
   "outputs": [],
   "source": [
    "def predict_sequence(sequence, model, kmer_to_id, max_length, device):\n",
    "    # 1. K-merize the new sequence\n",
    "    kmers = \" \".join(generate_kmers(sequence, K_VALUE))\n",
    "\n",
    "    # 2. Tokenize, add special tokens, and pad\n",
    "    kmer_list = kmers.split()\n",
    "    token_ids = [kmer_to_id['[CLS]']]\n",
    "    token_ids.extend([kmer_to_id.get(k, kmer_to_id['[UNK]']) for k in kmer_list])\n",
    "    token_ids.append(kmer_to_id['[SEP]'])\n",
    "\n",
    "    if len(token_ids) < max_length:\n",
    "        padding_len = max_length - len(token_ids)\n",
    "        token_ids.extend([kmer_to_id['[PAD]']] * padding_len)\n",
    "    else:\n",
    "        token_ids = token_ids[:max_length-1] + [kmer_to_id['[SEP]']]\n",
    "\n",
    "    # 3. Create attention mask\n",
    "    attention_mask = [1 if id != kmer_to_id['[PAD]'] else 0 for id in token_ids]\n",
    "\n",
    "    # 4. Convert to tensors and add batch dimension\n",
    "    input_ids_tensor = torch.tensor([token_ids], dtype=torch.long).to(device)\n",
    "    attention_mask_tensor = torch.tensor([attention_mask], dtype=torch.long).to(device)\n",
    "\n",
    "    # 5. Make prediction\n",
    "    with torch.no_grad():\n",
    "        outputs = model(input_ids=input_ids_tensor, attention_mask=attention_mask_tensor)\n",
    "\n",
    "    logits = outputs.logits\n",
    "    probabilities = torch.softmax(logits, dim=1)\n",
    "    confidence, predicted_class_id = torch.max(probabilities, dim=1)\n",
    "\n",
    "    # 6. Decode the prediction\n",
    "    predicted_label = label_encoder.inverse_transform([predicted_class_id.item()])[0]\n",
    "\n",
    "    return predicted_label, confidence.item()"
   ]
  },
  {
   "cell_type": "markdown",
   "id": "7dde4f56-9107-45f2-a618-f0574a095f4d",
   "metadata": {},
   "source": [
    "##### Test with New Sequences"
   ]
  },
  {
   "cell_type": "code",
   "execution_count": 66,
   "id": "061a312e-06a2-4d60-8f9e-35ff3ec2621b",
   "metadata": {
    "execution": {
     "iopub.execute_input": "2025-09-11T20:21:08.149082Z",
     "iopub.status.busy": "2025-09-11T20:21:08.148340Z",
     "iopub.status.idle": "2025-09-11T20:21:08.239403Z",
     "shell.execute_reply": "2025-09-11T20:21:08.238836Z",
     "shell.execute_reply.started": "2025-09-11T20:21:08.149056Z"
    },
    "trusted": true
   },
   "outputs": [
    {
     "name": "stdout",
     "output_type": "stream",
     "text": [
      "Sequence: cgcgcccgcgccgcatatacgcgtatatac...\n",
      "Predicted Label: Non-Promoter\n",
      "Confidence: 0.8672\n",
      "\n",
      "Sequence: atcgatcgatcgatcgatcgatcgatcgat...\n",
      "Predicted Label: Non-Promoter\n",
      "Confidence: 0.8747\n"
     ]
    }
   ],
   "source": [
    "# Example of a real human promoter sequence (from TATA-box)\n",
    "promoter_example = \"cgcgcccgcgccgcatatacgcgtatatacgcgtatacgcgtatacgcgtacgcgta\"\n",
    "\n",
    "# Example of a random, non-promoter-like sequence\n",
    "non_promoter_example = \"atcgatcgatcgatcgatcgatcgatcgatcgatcgatcgatcgatcgatcgatc\"\n",
    "\n",
    "\n",
    "label, confidence = predict_sequence(promoter_example, model, kmer_to_id, MAX_LENGTH, device)\n",
    "print(f\"Sequence: {promoter_example[:30]}...\")\n",
    "print(f\"Predicted Label: {label}\")\n",
    "print(f\"Confidence: {confidence:.4f}\\n\")\n",
    "\n",
    "\n",
    "label, confidence = predict_sequence(non_promoter_example, model, kmer_to_id, MAX_LENGTH, device)\n",
    "print(f\"Sequence: {non_promoter_example[:30]}...\")\n",
    "print(f\"Predicted Label: {label}\")\n",
    "print(f\"Confidence: {confidence:.4f}\")"
   ]
  },
  {
   "cell_type": "markdown",
   "id": "38d1fb41-d78b-4c50-a237-196cf9a2df09",
   "metadata": {},
   "source": [
    "##### Get Predictions for the Entire Test Set"
   ]
  },
  {
   "cell_type": "code",
   "execution_count": 67,
   "id": "a031ef1d-18d0-4e91-be16-f7fa38af19f3",
   "metadata": {
    "trusted": true
   },
   "outputs": [],
   "source": [
    "def get_predictions(model, data_loader, device):\n",
    "    model = model.eval()\n",
    "    predictions = []\n",
    "    actual_labels = []\n",
    "\n",
    "    with torch.no_grad():\n",
    "        for batch in data_loader:\n",
    "            input_ids = batch['input_ids'].to(device)\n",
    "            attention_mask = batch['attention_mask'].to(device)\n",
    "            labels = batch['labels'].to(device)\n",
    "\n",
    "            outputs = model(input_ids=input_ids, attention_mask=attention_mask)\n",
    "            _, preds = torch.max(outputs.logits, dim=1)\n",
    "\n",
    "            predictions.extend(preds)\n",
    "            actual_labels.extend(labels)\n",
    "\n",
    "    predictions = torch.stack(predictions).cpu()\n",
    "    actual_labels = torch.stack(actual_labels).cpu()\n",
    "    return predictions, actual_labels\n",
    "\n",
    "# Assume you have a val_loader (or a test_loader)\n",
    "y_pred, y_true = get_predictions(model, test_loader, device)"
   ]
  },
  {
   "cell_type": "markdown",
   "id": "0306f428-9a8c-4c20-9be1-e3f184620c9b",
   "metadata": {},
   "source": [
    "##### Generate Evaluation Reports"
   ]
  },
  {
   "cell_type": "code",
   "execution_count": 68,
   "id": "c2dfa631-4bc0-4af7-8240-3b2423059d1e",
   "metadata": {
    "execution": {
     "iopub.execute_input": "2025-09-11T20:21:34.288779Z",
     "iopub.status.busy": "2025-09-11T20:21:34.288219Z",
     "iopub.status.idle": "2025-09-11T20:21:34.477923Z",
     "shell.execute_reply": "2025-09-11T20:21:34.477062Z",
     "shell.execute_reply.started": "2025-09-11T20:21:34.288756Z"
    },
    "trusted": true
   },
   "outputs": [
    {
     "name": "stdout",
     "output_type": "stream",
     "text": [
      "## Classification Report ##\n",
      "              precision    recall  f1-score   support\n",
      "\n",
      "Non-Promoter       0.70      0.67      0.68      1695\n",
      "    Promoter       0.68      0.72      0.70      1695\n",
      "\n",
      "    accuracy                           0.69      3390\n",
      "   macro avg       0.69      0.69      0.69      3390\n",
      "weighted avg       0.69      0.69      0.69      3390\n",
      "\n",
      "\n",
      "## Confusion Matrix ##\n"
     ]
    },
    {
     "data": {
      "image/png": "[encoded data removed]",
      "text/plain": [
       "<Figure size 800x600 with 2 Axes>"
      ]
     },
     "metadata": {},
     "output_type": "display_data"
    }
   ],
   "source": [
    "# Get class names from the label encoder\n",
    "class_names = label_encoder.classes_\n",
    "\n",
    "# Print Classification Report\n",
    "print(\"## Classification Report ##\")\n",
    "print(classification_report(y_true, y_pred, target_names=class_names))\n",
    "\n",
    "\n",
    "# Generate and Plot Confusion Matrix\n",
    "print(\"\\n## Confusion Matrix ##\")\n",
    "cm = confusion_matrix(y_true, y_pred)\n",
    "df_cm = pd.DataFrame(cm, index=class_names, columns=class_names)\n",
    "\n",
    "plt.figure(figsize=(8, 6))\n",
    "sns.heatmap(df_cm, annot=True, fmt='g', cmap='Blues')\n",
    "plt.title('Confusion Matrix')\n",
    "plt.ylabel('Actual Label')\n",
    "plt.xlabel('Predicted Label')\n",
    "plt.show()"
   ]
  },
  {
   "cell_type": "code",
   "execution_count": 69,
   "id": "ae299a8e",
   "metadata": {},
   "outputs": [
    {
     "name": "stdout",
     "output_type": "stream",
     "text": [
      "Test Accuracy: 0.6935\n"
     ]
    }
   ],
   "source": [
    "# Test accuracy\n",
    "print(f\"Test Accuracy: {(y_pred == y_true).sum().item() / len(y_true):.4f}\")"
   ]
  },
  {
   "cell_type": "code",
   "execution_count": null,
   "id": "33e44c62",
   "metadata": {},
   "outputs": [],
   "source": []
  }
 ],
 "metadata": {
  "kaggle": {
   "accelerator": "nvidiaTeslaT4",
   "dataSources": [
    {
     "datasetId": 8252221,
     "sourceId": 13032628,
     "sourceType": "datasetVersion"
    }
   ],
   "dockerImageVersionId": 31090,
   "isGpuEnabled": true,
   "isInternetEnabled": true,
   "language": "python",
   "sourceType": "notebook"
  },
  "kernelspec": {
   "display_name": "Python 3",
   "language": "python",
   "name": "python3"
  },
  "language_info": {
   "codemirror_mode": {
    "name": "ipython",
    "version": 3
   },
   "file_extension": ".py",
   "mimetype": "text/x-python",
   "name": "python",
   "nbconvert_exporter": "python",
   "pygments_lexer": "ipython3",
   "version": "3.12.9"
  }
 },
 "nbformat": 4,
 "nbformat_minor": 5
}
